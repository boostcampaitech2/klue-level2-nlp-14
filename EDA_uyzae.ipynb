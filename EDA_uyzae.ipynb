{
 "cells": [
  {
   "cell_type": "code",
   "execution_count": 6,
   "source": [
    "import numpy as np\n",
    "import pandas as pd\n",
    "import torch\n",
    "import matplotlib.pyplot as plt\n",
    "import seaborn as sns\n",
    "from transformers import AutoTokenizer, AutoConfig, AutoModelForSequenceClassification, Trainer, TrainingArguments, RobertaConfig, RobertaTokenizer, RobertaForSequenceClassification, BertTokenizer\n",
    "from load_data import *\n",
    "import re\n",
    "\n",
    "class RE_Dataset(torch.utils.data.Dataset):\n",
    "  \"\"\" Dataset 구성을 위한 class.\"\"\"\n",
    "  def __init__(self, pair_dataset, labels):\n",
    "    self.pair_dataset = pair_dataset\n",
    "    self.labels = labels\n",
    "\n",
    "  def __getitem__(self, idx):\n",
    "    item = {key: val[idx].clone().detach() for key, val in self.pair_dataset.items()}\n",
    "    item['labels'] = torch.tensor(self.labels[idx])\n",
    "    return item\n",
    "\n",
    "  def __len__(self):\n",
    "    return len(self.labels)\n",
    "\n",
    "def preprocessing_dataset(dataset):\n",
    "  \"\"\" 처음 불러온 csv 파일을 원하는 형태의 DataFrame으로 변경 시켜줍니다.\"\"\"\n",
    "  subject_entity = []\n",
    "  object_entity = []\n",
    "  for i,j in zip(dataset['subject_entity'], dataset['object_entity']):\n",
    "    i = i[1:-1].split(',')[0].split(':')[1]\n",
    "    j = j[1:-1].split(',')[0].split(':')[1]\n",
    "\n",
    "    subject_entity.append(i)\n",
    "    object_entity.append(j)\n",
    "  out_dataset = pd.DataFrame({'id':dataset['id'], 'sentence':dataset['sentence'],'subject_entity':subject_entity,'object_entity':object_entity,'label':dataset['label'],})\n",
    "  return out_dataset\n",
    "\n",
    "def load_data(dataset_dir):\n",
    "  \"\"\" csv 파일을 경로에 맡게 불러 옵니다. \"\"\"\n",
    "  pd_dataset = pd.read_csv(dataset_dir)\n",
    "  dataset = preprocessing_dataset(pd_dataset)\n",
    "  \n",
    "  return dataset\n"
   ],
   "outputs": [],
   "metadata": {}
  },
  {
   "cell_type": "code",
   "execution_count": 127,
   "source": [
    "train_dataset = load_data(\"../dataset/train/train.csv\")\n",
    "test_dataset = load_data(\"../dataset/test/test_data.csv\")\n",
    "\n",
    "train_dataset.head()"
   ],
   "outputs": [
    {
     "output_type": "execute_result",
     "data": {
      "text/html": [
       "<div>\n",
       "<style scoped>\n",
       "    .dataframe tbody tr th:only-of-type {\n",
       "        vertical-align: middle;\n",
       "    }\n",
       "\n",
       "    .dataframe tbody tr th {\n",
       "        vertical-align: top;\n",
       "    }\n",
       "\n",
       "    .dataframe thead th {\n",
       "        text-align: right;\n",
       "    }\n",
       "</style>\n",
       "<table border=\"1\" class=\"dataframe\">\n",
       "  <thead>\n",
       "    <tr style=\"text-align: right;\">\n",
       "      <th></th>\n",
       "      <th>id</th>\n",
       "      <th>sentence</th>\n",
       "      <th>subject_entity</th>\n",
       "      <th>object_entity</th>\n",
       "      <th>label</th>\n",
       "    </tr>\n",
       "  </thead>\n",
       "  <tbody>\n",
       "    <tr>\n",
       "      <th>0</th>\n",
       "      <td>0</td>\n",
       "      <td>〈Something〉는 조지 해리슨이 쓰고 비틀즈가 1969년 앨범 《Abbey R...</td>\n",
       "      <td>'비틀즈'</td>\n",
       "      <td>'조지 해리슨'</td>\n",
       "      <td>no_relation</td>\n",
       "    </tr>\n",
       "    <tr>\n",
       "      <th>1</th>\n",
       "      <td>1</td>\n",
       "      <td>호남이 기반인 바른미래당·대안신당·민주평화당이 우여곡절 끝에 합당해 민생당(가칭)으...</td>\n",
       "      <td>'민주평화당'</td>\n",
       "      <td>'대안신당'</td>\n",
       "      <td>no_relation</td>\n",
       "    </tr>\n",
       "    <tr>\n",
       "      <th>2</th>\n",
       "      <td>2</td>\n",
       "      <td>K리그2에서 성적 1위를 달리고 있는 광주FC는 지난 26일 한국프로축구연맹으로부터...</td>\n",
       "      <td>'광주FC'</td>\n",
       "      <td>'한국프로축구연맹'</td>\n",
       "      <td>org:member_of</td>\n",
       "    </tr>\n",
       "    <tr>\n",
       "      <th>3</th>\n",
       "      <td>3</td>\n",
       "      <td>균일가 생활용품점 (주)아성다이소(대표 박정부)는 코로나19 바이러스로 어려움을 겪...</td>\n",
       "      <td>'아성다이소'</td>\n",
       "      <td>'박정부'</td>\n",
       "      <td>org:top_members/employees</td>\n",
       "    </tr>\n",
       "    <tr>\n",
       "      <th>4</th>\n",
       "      <td>4</td>\n",
       "      <td>1967년 프로 야구 드래프트 1순위로 요미우리 자이언츠에게 입단하면서 등번호는 8...</td>\n",
       "      <td>'요미우리 자이언츠'</td>\n",
       "      <td>'1967'</td>\n",
       "      <td>no_relation</td>\n",
       "    </tr>\n",
       "  </tbody>\n",
       "</table>\n",
       "</div>"
      ],
      "text/plain": [
       "   id                                           sentence subject_entity  \\\n",
       "0   0  〈Something〉는 조지 해리슨이 쓰고 비틀즈가 1969년 앨범 《Abbey R...          '비틀즈'   \n",
       "1   1  호남이 기반인 바른미래당·대안신당·민주평화당이 우여곡절 끝에 합당해 민생당(가칭)으...        '민주평화당'   \n",
       "2   2  K리그2에서 성적 1위를 달리고 있는 광주FC는 지난 26일 한국프로축구연맹으로부터...         '광주FC'   \n",
       "3   3  균일가 생활용품점 (주)아성다이소(대표 박정부)는 코로나19 바이러스로 어려움을 겪...        '아성다이소'   \n",
       "4   4  1967년 프로 야구 드래프트 1순위로 요미우리 자이언츠에게 입단하면서 등번호는 8...    '요미우리 자이언츠'   \n",
       "\n",
       "  object_entity                      label  \n",
       "0      '조지 해리슨'                no_relation  \n",
       "1        '대안신당'                no_relation  \n",
       "2    '한국프로축구연맹'              org:member_of  \n",
       "3         '박정부'  org:top_members/employees  \n",
       "4        '1967'                no_relation  "
      ]
     },
     "metadata": {},
     "execution_count": 127
    }
   ],
   "metadata": {}
  },
  {
   "cell_type": "code",
   "execution_count": 8,
   "source": [
    "plt.figure(figsize=(15, 5)) \n",
    "ax = sns.countplot(x = 'label', data = train_dataset)\n",
    "\n",
    "plt.xticks(np.arange(30), list(train_dataset.label.unique()), rotation = 90)\n",
    "plt.title('Labels Ratio',fontsize= 14)\n",
    "plt.xlabel('Label')\n",
    "plt.ylabel('Number of label')\n",
    "\n",
    "counts = train_dataset['label'].value_counts()\n",
    "counts_pct = [f'{elem * 100:.2f}%' for elem in counts / counts.sum()]\n",
    "for i, v in enumerate(counts_pct):\n",
    "    ax.text(i, 0, v, horizontalalignment = 'center', rotation = 90, size = 10, color = 'black', fontweight = 'bold')\n",
    "    \n",
    "plt.show()"
   ],
   "outputs": [
    {
     "output_type": "display_data",
     "data": {
      "image/png": "[encoded data removed]",
      "text/plain": [
       "<Figure size 1080x360 with 1 Axes>"
      ]
     },
     "metadata": {
      "needs_background": "light"
     }
    }
   ],
   "metadata": {}
  },
  {
   "cell_type": "code",
   "execution_count": 9,
   "source": [
    "def label_to_num(label):\n",
    "    num_label = []\n",
    "    with open('dict_label_to_num.pkl', 'rb') as f:\n",
    "        dict_label_to_num = pickle.load(f)\n",
    "    for v in label:\n",
    "        num_label.append(dict_label_to_num[v])\n",
    "  \n",
    "    return num_label\n",
    "\n",
    "def tokenized_non_paddig(dataset, tokenizer):\n",
    "    \"\"\" tokenizer에 따라 sentence를 tokenizing 합니다.\"\"\"\n",
    "    concat_entity = []\n",
    "    for e01, e02 in zip(dataset['subject_entity'], dataset['object_entity']):\n",
    "        temp = ''\n",
    "        temp = e01 + '[SEP]' + e02\n",
    "        concat_entity.append(temp)\n",
    "    tokenized_sentences = tokenizer(\n",
    "        concat_entity,\n",
    "        list(dataset['sentence']),\n",
    "        return_tensors=\"pt\",\n",
    "        padding=True,\n",
    "        truncation=True,\n",
    "        max_length=256,\n",
    "        add_special_tokens=True,\n",
    "        )\n",
    "    return tokenized_sentences"
   ],
   "outputs": [],
   "metadata": {}
  },
  {
   "cell_type": "code",
   "execution_count": 10,
   "source": [
    "MODEL_NAME = \"xlm-roberta-large\"\n",
    "tokenizer = AutoTokenizer.from_pretrained(MODEL_NAME)\n",
    "\n",
    "tokenized_train = tokenized_non_paddig(train_dataset, tokenizer)\n",
    "train_label = label_to_num(train_dataset['label'].values)\n",
    "RE_train_dataset = RE_Dataset(tokenized_train, train_label)"
   ],
   "outputs": [
    {
     "output_type": "stream",
     "name": "stderr",
     "text": [
      "/opt/conda/envs/basic/lib/python3.8/site-packages/transformers/tokenization_utils_base.py:2227: UserWarning: `max_length` is ignored when `padding`=`True`.\n",
      "  warnings.warn(\"`max_length` is ignored when `padding`=`True`.\")\n"
     ]
    }
   ],
   "metadata": {}
  },
  {
   "cell_type": "code",
   "execution_count": 11,
   "source": [
    "data_length = [len([tok for tok in sent if tok != tokenizer.pad_token_id]) for sent in tokenized_train['input_ids']]"
   ],
   "outputs": [],
   "metadata": {}
  },
  {
   "cell_type": "code",
   "execution_count": 12,
   "source": [
    "plt.figure(figsize=(15, 5)) \n",
    "ax = sns.histplot(data = data_length)\n",
    "\n",
    "plt.title('Input token Length',fontsize= 14)\n",
    "plt.xlabel('Length')\n",
    "plt.ylabel('Count')\n",
    "\n",
    "plt.show()"
   ],
   "outputs": [
    {
     "output_type": "display_data",
     "data": {
      "image/png": "[encoded data removed]",
      "text/plain": [
       "<Figure size 1080x360 with 1 Axes>"
      ]
     },
     "metadata": {
      "needs_background": "light"
     }
    }
   ],
   "metadata": {}
  },
  {
   "cell_type": "code",
   "execution_count": 138,
   "source": [
    "def special_lang_idx(dataset):\n",
    "    df = dataset[['subject_entity', 'object_entity']]\n",
    "    df = df.applymap(lambda x : re.sub('[a-zA-Zㄱ-ㅎ가-힣0-9 ]', '', x))\n",
    "    # com = re.compile('\\w+')\n",
    "    # df = df.applymap(lambda x : \"\".join(com.findall(x)))\n",
    "    df = df.applymap(lambda x : \"\".join(re.findall('\\w', x)))\n",
    "    df = df.applymap(lambda x : re.sub('\\s', '', x))\n",
    "    df.replace('', np.nan, inplace=True)\n",
    "    \n",
    "    special_lang_idx = []\n",
    "\n",
    "    special_lang_idx.extend(list(df[df.notnull()['subject_entity']==True].index))\n",
    "    special_lang_idx.extend(list(df[df.notnull()['object_entity']==True].index))\n",
    "\n",
    "    special_lang_idx = list(set(special_lang_idx))\n",
    "\n",
    "    return special_lang_idx\n",
    "\n"
   ],
   "outputs": [],
   "metadata": {}
  },
  {
   "cell_type": "code",
   "execution_count": 139,
   "source": [
    "trn_special_lang_idx = special_lang_idx(train_dataset)\n",
    "tst_special_lang_idx = special_lang_idx(test_dataset)\n",
    "print(\"num of special lang in the obj&sub of Train set :\", len(trn_special_lang_idx))\n",
    "print(\"num of special lang in the obj&sub of Test set :\", len(tst_special_lang_idx))"
   ],
   "outputs": [
    {
     "output_type": "stream",
     "name": "stdout",
     "text": [
      "num of special lang in the obj&sub of Train set : 215\n",
      "num of special lang in the obj&sub of Test set : 56\n"
     ]
    }
   ],
   "metadata": {}
  },
  {
   "cell_type": "code",
   "execution_count": 143,
   "source": [
    "trn_spc_lang = train_dataset.iloc[trn_special_lang_idx].head()"
   ],
   "outputs": [
    {
     "output_type": "execute_result",
     "data": {
      "text/html": [
       "<div>\n",
       "<style scoped>\n",
       "    .dataframe tbody tr th:only-of-type {\n",
       "        vertical-align: middle;\n",
       "    }\n",
       "\n",
       "    .dataframe tbody tr th {\n",
       "        vertical-align: top;\n",
       "    }\n",
       "\n",
       "    .dataframe thead th {\n",
       "        text-align: right;\n",
       "    }\n",
       "</style>\n",
       "<table border=\"1\" class=\"dataframe\">\n",
       "  <thead>\n",
       "    <tr style=\"text-align: right;\">\n",
       "      <th></th>\n",
       "      <th>id</th>\n",
       "      <th>sentence</th>\n",
       "      <th>subject_entity</th>\n",
       "      <th>object_entity</th>\n",
       "      <th>label</th>\n",
       "    </tr>\n",
       "  </thead>\n",
       "  <tbody>\n",
       "    <tr>\n",
       "      <th>22016</th>\n",
       "      <td>22016</td>\n",
       "      <td>능은 경기도 화성시에 위치한 융릉(隆陵)으로 남편인 장조와 함께 묻혀 있으며 인근에...</td>\n",
       "      <td>'효의왕후'</td>\n",
       "      <td>'건릉(健陵)'</td>\n",
       "      <td>no_relation</td>\n",
       "    </tr>\n",
       "    <tr>\n",
       "      <th>5634</th>\n",
       "      <td>5634</td>\n",
       "      <td>토레 안드레 플로(Tore André Flo, 1973년 6월 15일, 송노피오라네...</td>\n",
       "      <td>'토레 안드레 플로'</td>\n",
       "      <td>'Tore André Flo'</td>\n",
       "      <td>per:alternate_names</td>\n",
       "    </tr>\n",
       "    <tr>\n",
       "      <th>19458</th>\n",
       "      <td>19458</td>\n",
       "      <td>윤종신(尹鍾信, 1969년 10월 15일 ~)은 대한민국의 작곡가, 가수 겸 방송인이다.</td>\n",
       "      <td>'윤종신'</td>\n",
       "      <td>'尹鍾信'</td>\n",
       "      <td>per:alternate_names</td>\n",
       "    </tr>\n",
       "    <tr>\n",
       "      <th>6667</th>\n",
       "      <td>6667</td>\n",
       "      <td>최창권(崔彰權, 천주교 세례명 바오로, 1934년 10월 26일 ~ 2008년 1월...</td>\n",
       "      <td>'최창권'</td>\n",
       "      <td>'崔彰權'</td>\n",
       "      <td>per:alternate_names</td>\n",
       "    </tr>\n",
       "    <tr>\n",
       "      <th>22028</th>\n",
       "      <td>22028</td>\n",
       "      <td>한편 복녕군은 고종 즉위 후인 1864년(고종 원년) 음력 7월 9일 효헌(孝獻)의...</td>\n",
       "      <td>'복녕군'</td>\n",
       "      <td>'효헌(孝獻)'</td>\n",
       "      <td>per:alternate_names</td>\n",
       "    </tr>\n",
       "  </tbody>\n",
       "</table>\n",
       "</div>"
      ],
      "text/plain": [
       "          id                                           sentence  \\\n",
       "22016  22016  능은 경기도 화성시에 위치한 융릉(隆陵)으로 남편인 장조와 함께 묻혀 있으며 인근에...   \n",
       "5634    5634  토레 안드레 플로(Tore André Flo, 1973년 6월 15일, 송노피오라네...   \n",
       "19458  19458  윤종신(尹鍾信, 1969년 10월 15일 ~)은 대한민국의 작곡가, 가수 겸 방송인이다.   \n",
       "6667    6667  최창권(崔彰權, 천주교 세례명 바오로, 1934년 10월 26일 ~ 2008년 1월...   \n",
       "22028  22028  한편 복녕군은 고종 즉위 후인 1864년(고종 원년) 음력 7월 9일 효헌(孝獻)의...   \n",
       "\n",
       "      subject_entity      object_entity                label  \n",
       "22016         '효의왕후'           '건릉(健陵)'          no_relation  \n",
       "5634     '토레 안드레 플로'   'Tore André Flo'  per:alternate_names  \n",
       "19458          '윤종신'              '尹鍾信'  per:alternate_names  \n",
       "6667           '최창권'              '崔彰權'  per:alternate_names  \n",
       "22028          '복녕군'           '효헌(孝獻)'  per:alternate_names  "
      ]
     },
     "metadata": {},
     "execution_count": 143
    }
   ],
   "metadata": {}
  },
  {
   "cell_type": "code",
   "execution_count": 144,
   "source": [
    "t_spc_lang = test_dataset.iloc[tst_special_lang_idx].head()"
   ],
   "outputs": [],
   "metadata": {}
  },
  {
   "cell_type": "code",
   "execution_count": null,
   "source": [
    "plt.figure(figsize=(15, 5)) \n",
    "ax = sns.countplot(x = 'label', data = train_dataset)\n",
    "\n",
    "plt.xticks(np.arange(30), list(train_dataset.label.unique()), rotation = 90)\n",
    "plt.title('Labels Ratio',fontsize= 14)\n",
    "plt.xlabel('Label')\n",
    "plt.ylabel('Number of label')\n",
    "\n",
    "counts = train_dataset['label'].value_counts()\n",
    "counts_pct = [f'{elem * 100:.2f}%' for elem in counts / counts.sum()]\n",
    "for i, v in enumerate(counts_pct):\n",
    "    ax.text(i, 0, v, horizontalalignment = 'center', rotation = 90, size = 10, color = 'black', fontweight = 'bold')\n",
    "    \n",
    "plt.show()"
   ],
   "outputs": [],
   "metadata": {}
  },
  {
   "cell_type": "code",
   "execution_count": null,
   "source": [],
   "outputs": [],
   "metadata": {}
  }
 ],
 "metadata": {
  "interpreter": {
   "hash": "883f4b2fb0a3279582c48a1b3ea671410eb924431136537ea6c03e47c9180cb0"
  },
  "kernelspec": {
   "display_name": "Basic",
   "language": "python",
   "name": "basic"
  },
  "language_info": {
   "codemirror_mode": {
    "name": "ipython",
    "version": 3
   },
   "file_extension": ".py",
   "mimetype": "text/x-python",
   "name": "python",
   "nbconvert_exporter": "python",
   "pygments_lexer": "ipython3",
   "version": "3.8.11"
  }
 },
 "nbformat": 4,
 "nbformat_minor": 5
}