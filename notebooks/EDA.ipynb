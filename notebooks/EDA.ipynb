{
 "cells": [
  {
   "cell_type": "markdown",
   "id": "4170ce90-c72f-4b35-aa2b-641dcb2d0f90",
   "metadata": {},
   "source": [
    "# Config"
   ]
  },
  {
   "cell_type": "markdown",
   "id": "3748d535-85c4-4cac-8905-5e3b101e6948",
   "metadata": {
    "tags": []
   },
   "source": [
    "## Library"
   ]
  },
  {
   "cell_type": "code",
   "execution_count": 1,
   "id": "b5b80099-f91f-44e9-9dec-67f3ce698ccd",
   "metadata": {
    "tags": []
   },
   "outputs": [],
   "source": [
    "import pickle as pickle\n",
    "import os\n",
    "from functools import partial\n",
    "from typing import Tuple, List, Any, Dict\n",
    "import random\n",
    "import pandas as pd\n",
    "import torch\n",
    "import sklearn\n",
    "import numpy as np\n",
    "from sklearn.metrics import accuracy_score, recall_score, precision_score, f1_score\n",
    "from transformers import AutoTokenizer, AutoConfig, AutoModelForSequenceClassification, Trainer, TrainingArguments, RobertaConfig, RobertaTokenizer, RobertaForSequenceClassification, BertTokenizer\n",
    "from metrics import *\n",
    "from load_data import *"
   ]
  },
  {
   "cell_type": "markdown",
   "id": "e8167f9f-26a2-4691-9a70-c52c3a5ed704",
   "metadata": {
    "tags": []
   },
   "source": [
    "## Settings"
   ]
  },
  {
   "cell_type": "code",
   "execution_count": 2,
   "id": "7653b2d2-3874-46f2-9951-a92f0dfa92d2",
   "metadata": {},
   "outputs": [],
   "source": [
    "##----------------\n",
    "def set_seeds(seed=42):\n",
    "    random.seed(seed)\n",
    "    os.environ['PYTHONHASHSEED'] = str(seed)\n",
    "    np.random.seed(seed)\n",
    "    torch.manual_seed(seed)\n",
    "    torch.cuda.manual_seed(seed)\n",
    "    torch.cuda.manual_seed_all(seed)\n",
    "    torch.backends.cudnn.deterministic = True\n",
    "    torch.backends.cudnn.benchmark = False # for faster training, but not deterministic\n",
    "\n",
    "set_seeds()    "
   ]
  },
  {
   "cell_type": "markdown",
   "id": "bd8d3241-1d72-40f6-88c8-ba9e3919274a",
   "metadata": {},
   "source": [
    "KLUE에서 제시된 hyperparameter setting "
   ]
  },
  {
   "cell_type": "markdown",
   "id": "cc4003cd-dee2-490b-8874-0b4feb568c81",
   "metadata": {},
   "source": [
    "### Fine-tuning"
   ]
  },
  {
   "cell_type": "code",
   "execution_count": 3,
   "id": "5f3f6c57-68fe-4cd0-9e26-8e08907a8726",
   "metadata": {},
   "outputs": [
    {
     "ename": "NameError",
     "evalue": "name 'tune' is not defined",
     "output_type": "error",
     "traceback": [
      "\u001b[0;31m---------------------------------------------------------------------------\u001b[0m",
      "\u001b[0;31mNameError\u001b[0m                                 Traceback (most recent call last)",
      "\u001b[0;32m/tmp/ipykernel_26206/3813846437.py\u001b[0m in \u001b[0;36m<module>\u001b[0;34m\u001b[0m\n\u001b[1;32m      1\u001b[0m \u001b[0;31m# Search space\u001b[0m\u001b[0;34m\u001b[0m\u001b[0;34m\u001b[0m\u001b[0;34m\u001b[0m\u001b[0m\n\u001b[1;32m      2\u001b[0m tune_config = {\n\u001b[0;32m----> 3\u001b[0;31m     \u001b[0;34m\"per_device_train_batch_size\"\u001b[0m\u001b[0;34m:\u001b[0m \u001b[0mtune\u001b[0m\u001b[0;34m.\u001b[0m\u001b[0mchoice\u001b[0m\u001b[0;34m(\u001b[0m\u001b[0;34m[\u001b[0m\u001b[0;36m8\u001b[0m\u001b[0;34m,\u001b[0m \u001b[0;36m16\u001b[0m\u001b[0;34m,\u001b[0m \u001b[0;36m32\u001b[0m\u001b[0;34m]\u001b[0m\u001b[0;34m)\u001b[0m\u001b[0;34m,\u001b[0m\u001b[0;34m\u001b[0m\u001b[0;34m\u001b[0m\u001b[0m\n\u001b[0m\u001b[1;32m      4\u001b[0m     \u001b[0;34m\"per_device_eval_batch_size\"\u001b[0m\u001b[0;34m:\u001b[0m \u001b[0;36m32\u001b[0m\u001b[0;34m,\u001b[0m\u001b[0;34m\u001b[0m\u001b[0;34m\u001b[0m\u001b[0m\n\u001b[1;32m      5\u001b[0m     \u001b[0;34m\"learning_rate\"\u001b[0m\u001b[0;34m:\u001b[0m \u001b[0mtune\u001b[0m\u001b[0;34m.\u001b[0m\u001b[0mchoice\u001b[0m\u001b[0;34m(\u001b[0m\u001b[0;34m[\u001b[0m\u001b[0;36m1e-5\u001b[0m\u001b[0;34m,\u001b[0m \u001b[0;36m2e-5\u001b[0m\u001b[0;34m,\u001b[0m \u001b[0;36m3e-5\u001b[0m\u001b[0;34m,\u001b[0m \u001b[0;36m5e-5\u001b[0m\u001b[0;34m]\u001b[0m\u001b[0;34m)\u001b[0m\u001b[0;34m,\u001b[0m\u001b[0;34m\u001b[0m\u001b[0;34m\u001b[0m\u001b[0m\n",
      "\u001b[0;31mNameError\u001b[0m: name 'tune' is not defined"
     ]
    }
   ],
   "source": [
    "# Search space\n",
    "tune_config = {\n",
    "    \"per_device_train_batch_size\": tune.choice([8, 16, 32]),\n",
    "    \"per_device_eval_batch_size\": 32,\n",
    "    \"learning_rate\": tune.choice([1e-5, 2e-5, 3e-5, 5e-5]),\n",
    "    \"warmup_ratio\": tune.choice([0., 0.1, 0.2, 0.6]),\n",
    "    \"weihgt_decay\": tune.choice([0.0, 0.01]),\n",
    "    \"num_train_epochs\": tune.choice([3, 4, 5, 10]),\n",
    "}"
   ]
  },
  {
   "cell_type": "code",
   "execution_count": 5,
   "id": "e03dc725-8520-4068-a1b9-11d4988defee",
   "metadata": {},
   "outputs": [],
   "source": [
    "# patience = 10000\n",
    "output_dir = \"klue_dir\"\n",
    "wandb_project = \"klue_re_klue-baseline[fp16]\"\n",
    "run_name = \"roberta-large\"\n",
    "report_to = \"wandb\"\n",
    "max_length = 128"
   ]
  },
  {
   "cell_type": "markdown",
   "id": "adc4861f-748f-4c6b-a141-48ff8483ad8a",
   "metadata": {
    "tags": []
   },
   "source": [
    "# Data"
   ]
  },
  {
   "cell_type": "code",
   "execution_count": 6,
   "id": "ce1c6d67-2063-4e67-b94b-270371f35404",
   "metadata": {},
   "outputs": [],
   "source": [
    "class_names = ['no_relation', 'org:top_members/employees', 'org:members',\n",
    "       'org:product', 'per:title', 'org:alternate_names',\n",
    "       'per:employee_of', 'org:place_of_headquarters', 'per:product',\n",
    "       'org:number_of_employees/members', 'per:children',\n",
    "       'per:place_of_residence', 'per:alternate_names',\n",
    "       'per:other_family', 'per:colleagues', 'per:origin', 'per:siblings',\n",
    "       'per:spouse', 'org:founded', 'org:political/religious_affiliation',\n",
    "       'org:member_of', 'per:parents', 'org:dissolved',\n",
    "       'per:schools_attended', 'per:date_of_death', 'per:date_of_birth',\n",
    "       'per:place_of_birth', 'per:place_of_death', 'org:founded_by',\n",
    "       'per:religion']\n",
    "\n",
    "id2label = {idx: label for idx, label in enumerate(class_names)}\n",
    "label2id = {label: idx for idx, label in enumerate(class_names)}"
   ]
  },
  {
   "cell_type": "code",
   "execution_count": 7,
   "id": "56db290e-838b-4aa4-9eae-bf8b28ff12af",
   "metadata": {},
   "outputs": [],
   "source": [
    "dataset = pd.read_csv(\"../dataset/train/train.csv\")\n",
    "label = label_to_num(dataset['label'].values)"
   ]
  },
  {
   "cell_type": "code",
   "execution_count": 8,
   "id": "354289a8-3ce9-4d2b-a4fa-7d9821517f6e",
   "metadata": {},
   "outputs": [],
   "source": [
    "dataset['id'] = dataset['id'].astype(str)"
   ]
  },
  {
   "cell_type": "code",
   "execution_count": 9,
   "id": "c69273dd-3118-41e5-9fa5-2746fadd0a1b",
   "metadata": {},
   "outputs": [],
   "source": [
    "dataset['subject_entity'] = dataset['subject_entity'].apply(lambda x : eval(x))\n",
    "dataset['object_entity'] = dataset['object_entity'].apply(lambda x : eval(x))"
   ]
  },
  {
   "cell_type": "code",
   "execution_count": 10,
   "id": "d8b10acc-f62e-4c82-abc4-77e6bac50e6b",
   "metadata": {},
   "outputs": [],
   "source": [
    "dataset['label'] = dataset['label'].map(label2id)"
   ]
  },
  {
   "cell_type": "code",
   "execution_count": 11,
   "id": "eeb9629a-4fdf-4883-9a84-a6ebcf3c1a7a",
   "metadata": {},
   "outputs": [],
   "source": [
    "with open('train_eval_idx.pkl', 'rb') as f:\n",
    "    train_eval_idx = pickle.load(f)"
   ]
  },
  {
   "cell_type": "code",
   "execution_count": 12,
   "id": "950b326e-1604-4925-a7b5-ef5b94e657ff",
   "metadata": {},
   "outputs": [],
   "source": [
    "train_dataset = dataset.iloc[train_eval_idx['train']]\n",
    "dev_dataset = dataset.iloc[train_eval_idx['eval']]\n",
    "\n",
    "train_label = np.array(label)[train_eval_idx['train']]\n",
    "dev_label = np.array(label)[train_eval_idx['eval']]"
   ]
  },
  {
   "cell_type": "code",
   "execution_count": 13,
   "id": "26fe06c3-e62f-4d24-b860-3617487dab85",
   "metadata": {},
   "outputs": [],
   "source": [
    "from datasets import Dataset, DatasetDict, Features, Value, ClassLabel\n",
    "class_labels = ClassLabel(num_classes=30, names=class_names)"
   ]
  },
  {
   "cell_type": "code",
   "execution_count": 14,
   "id": "8336afb6-f31e-4603-991b-7aceb7bf2102",
   "metadata": {},
   "outputs": [],
   "source": [
    "hf_train_dataset = Dataset.from_pandas(train_dataset)\n",
    "hf_dev_dataset = Dataset.from_pandas(dev_dataset)"
   ]
  },
  {
   "cell_type": "code",
   "execution_count": 15,
   "id": "71c3f1e5-eccf-45c9-90a4-1d3a1192d92d",
   "metadata": {},
   "outputs": [],
   "source": [
    "hf_train_dataset = hf_train_dataset.remove_columns('__index_level_0__')\n",
    "hf_dev_dataset = hf_dev_dataset.remove_columns('__index_level_0__')"
   ]
  },
  {
   "cell_type": "code",
   "execution_count": 16,
   "id": "a380fde6-dc30-4df8-867e-e12c8608abc9",
   "metadata": {},
   "outputs": [],
   "source": [
    "klue_re = DatasetDict({'train' : hf_train_dataset, 'dev' : hf_dev_dataset})"
   ]
  },
  {
   "cell_type": "code",
   "execution_count": 17,
   "id": "68a8aa2e-c373-4c1f-9ec0-e0f2017c9d18",
   "metadata": {},
   "outputs": [
    {
     "data": {
      "text/plain": [
       "{'id': '10706',\n",
       " 'sentence': '추승우(秋承佑, 1979년 9월 24일 ~)는 전 KBO 리그 한화 이글스의 외야수이자, 현재 KBO 리그 한화 이글스의 작전·주루 및 외야수 수비 코치이다.',\n",
       " 'subject_entity': {'end_idx': 2,\n",
       "  'start_idx': 0,\n",
       "  'type': 'PER',\n",
       "  'word': '추승우'},\n",
       " 'object_entity': {'end_idx': 78,\n",
       "  'start_idx': 76,\n",
       "  'type': 'POH',\n",
       "  'word': '외야수'},\n",
       " 'label': 0,\n",
       " 'source': 'wikipedia'}"
      ]
     },
     "execution_count": 17,
     "metadata": {},
     "output_type": "execute_result"
    }
   ],
   "source": [
    "klue_re['train'][0]"
   ]
  },
  {
   "cell_type": "code",
   "execution_count": 18,
   "id": "1b37106a-081f-487f-9145-ed767bda4dbe",
   "metadata": {},
   "outputs": [],
   "source": [
    "klue_re['train'].features['label'] = ClassLabel(num_classes=30, names=class_names)\n",
    "klue_re['dev'].features['label'] = ClassLabel(num_classes=30, names=class_names)"
   ]
  },
  {
   "cell_type": "code",
   "execution_count": 19,
   "id": "6ae1f24a-d92a-47d4-9a0f-fb7f1a13aaa5",
   "metadata": {},
   "outputs": [
    {
     "data": {
      "text/plain": [
       "{'id': Value(dtype='string', id=None),\n",
       " 'sentence': Value(dtype='string', id=None),\n",
       " 'subject_entity': {'end_idx': Value(dtype='int64', id=None),\n",
       "  'start_idx': Value(dtype='int64', id=None),\n",
       "  'type': Value(dtype='string', id=None),\n",
       "  'word': Value(dtype='string', id=None)},\n",
       " 'object_entity': {'end_idx': Value(dtype='int64', id=None),\n",
       "  'start_idx': Value(dtype='int64', id=None),\n",
       "  'type': Value(dtype='string', id=None),\n",
       "  'word': Value(dtype='string', id=None)},\n",
       " 'label': ClassLabel(num_classes=30, names=['no_relation', 'org:top_members/employees', 'org:members', 'org:product', 'per:title', 'org:alternate_names', 'per:employee_of', 'org:place_of_headquarters', 'per:product', 'org:number_of_employees/members', 'per:children', 'per:place_of_residence', 'per:alternate_names', 'per:other_family', 'per:colleagues', 'per:origin', 'per:siblings', 'per:spouse', 'org:founded', 'org:political/religious_affiliation', 'org:member_of', 'per:parents', 'org:dissolved', 'per:schools_attended', 'per:date_of_death', 'per:date_of_birth', 'per:place_of_birth', 'per:place_of_death', 'org:founded_by', 'per:religion'], names_file=None, id=None),\n",
       " 'source': Value(dtype='string', id=None)}"
      ]
     },
     "execution_count": 19,
     "metadata": {},
     "output_type": "execute_result"
    }
   ],
   "source": [
    "klue_re['train'].features"
   ]
  },
  {
   "cell_type": "code",
   "execution_count": 20,
   "id": "43f2ee51-8a82-4475-852e-2f8aca791e2a",
   "metadata": {},
   "outputs": [
    {
     "data": {
      "text/plain": [
       "{'id': '10706',\n",
       " 'sentence': '추승우(秋承佑, 1979년 9월 24일 ~)는 전 KBO 리그 한화 이글스의 외야수이자, 현재 KBO 리그 한화 이글스의 작전·주루 및 외야수 수비 코치이다.',\n",
       " 'subject_entity': {'end_idx': 2,\n",
       "  'start_idx': 0,\n",
       "  'type': 'PER',\n",
       "  'word': '추승우'},\n",
       " 'object_entity': {'end_idx': 78,\n",
       "  'start_idx': 76,\n",
       "  'type': 'POH',\n",
       "  'word': '외야수'},\n",
       " 'label': 0,\n",
       " 'source': 'wikipedia'}"
      ]
     },
     "execution_count": 20,
     "metadata": {},
     "output_type": "execute_result"
    }
   ],
   "source": [
    "hf_train_dataset[0]"
   ]
  },
  {
   "cell_type": "code",
   "execution_count": 21,
   "id": "8117a4f5-14b8-4712-b92f-59159f2b921c",
   "metadata": {},
   "outputs": [
    {
     "name": "stderr",
     "output_type": "stream",
     "text": [
      "/opt/conda/envs/basic/lib/python3.8/site-packages/transformers/configuration_utils.py:336: UserWarning: Passing `gradient_checkpointing` to a config initialization is deprecated and will be removed in v5 Transformers. Using `model.gradient_checkpointing_enable()` instead, or if you are using the `Trainer` API, pass `gradient_checkpointing=True` in your `TrainingArguments`.\n",
      "  warnings.warn(\n"
     ]
    }
   ],
   "source": [
    "# tokenizing dataset\n",
    "MODEL_NAME = \"klue/roberta-large\"\n",
    "tokenizer = AutoTokenizer.from_pretrained(MODEL_NAME)"
   ]
  },
  {
   "cell_type": "code",
   "execution_count": 22,
   "id": "810052d6-533c-4cef-88e7-0d26516b2d34",
   "metadata": {},
   "outputs": [],
   "source": [
    "markers = dict(\n",
    "    subject_start_marker=\"<subj>\",\n",
    "    subject_end_marker=\"</subj>\",\n",
    "    object_start_marker=\"<obj>\",\n",
    "    object_end_marker=\"</obj>\",\n",
    ")"
   ]
  },
  {
   "cell_type": "code",
   "execution_count": 23,
   "id": "c83ddb83-b8ed-40e7-90c0-e644c677f110",
   "metadata": {},
   "outputs": [],
   "source": [
    "# create_example\n",
    "def mark_entity_spans(examples,\n",
    "                      subject_start_marker: str, subject_end_marker: str,\n",
    "                      object_start_marker: str, object_end_marker: str):\n",
    "\n",
    "    def _mark_entity_spans(\n",
    "        text: str, \n",
    "        subject_range=Tuple[int, int], \n",
    "        object_range=Tuple[int, int]\n",
    "    ) -> str:\n",
    "        \"\"\" Adds entity markers to the text to identify the subject/object entities.\n",
    "        Args:\n",
    "            text: Original sentence\n",
    "            subject_range: Pair of start and end indices of subject entity\n",
    "            object_range: Pair of start and end indices of object entity\n",
    "        Returns:\n",
    "            A string of text with subject/object entity markers\n",
    "        \"\"\"\n",
    "        if subject_range < object_range:\n",
    "            segments = [\n",
    "                text[: subject_range[0]],\n",
    "                subject_start_marker,\n",
    "                text[subject_range[0] : subject_range[1] + 1],\n",
    "                subject_end_marker,\n",
    "                text[subject_range[1] + 1 : object_range[0]],\n",
    "                object_start_marker,\n",
    "                text[object_range[0] : object_range[1] + 1],\n",
    "                object_end_marker,\n",
    "                text[object_range[1] + 1 :],\n",
    "            ]\n",
    "        elif subject_range > object_range:\n",
    "            segments = [\n",
    "                text[: object_range[0]],\n",
    "                object_start_marker,\n",
    "                text[object_range[0] : object_range[1] + 1],\n",
    "                object_end_marker,\n",
    "                text[object_range[1] + 1 : subject_range[0]],\n",
    "                subject_start_marker,\n",
    "                text[subject_range[0] : subject_range[1] + 1],\n",
    "                subject_end_marker,\n",
    "                text[subject_range[1] + 1 :],\n",
    "            ]\n",
    "        else:\n",
    "            raise ValueError(\"Entity boundaries overlap.\")\n",
    "\n",
    "        marked_text = \"\".join(segments)\n",
    "\n",
    "        return marked_text\n",
    "    \n",
    "    subject_entity = examples[\"subject_entity\"]\n",
    "    object_entity = examples[\"object_entity\"]\n",
    "    \n",
    "    text = _mark_entity_spans(\n",
    "        examples[\"sentence\"],\n",
    "        (subject_entity[\"start_idx\"], subject_entity[\"end_idx\"]),\n",
    "        (object_entity[\"start_idx\"], object_entity[\"end_idx\"]),\n",
    "    )\n",
    "    return {\"text\": text}\n",
    "\n",
    "mark_entity_spans = partial(mark_entity_spans, **markers)"
   ]
  },
  {
   "cell_type": "code",
   "execution_count": 24,
   "id": "dc8ae499-9e6f-48f3-85ae-ed878aa1b5db",
   "metadata": {},
   "outputs": [
    {
     "data": {
      "application/vnd.jupyter.widget-view+json": {
       "model_id": "89d044f5a6c94754a64c1c6fdbda692d",
       "version_major": 2,
       "version_minor": 0
      },
      "text/plain": [
       "  0%|          | 0/25976 [00:00<?, ?ex/s]"
      ]
     },
     "metadata": {},
     "output_type": "display_data"
    },
    {
     "data": {
      "application/vnd.jupyter.widget-view+json": {
       "model_id": "b80b2758b6d04ce4b4b60f639b58adb2",
       "version_major": 2,
       "version_minor": 0
      },
      "text/plain": [
       "  0%|          | 0/6494 [00:00<?, ?ex/s]"
      ]
     },
     "metadata": {},
     "output_type": "display_data"
    }
   ],
   "source": [
    "examples = klue_re.map(mark_entity_spans)"
   ]
  },
  {
   "cell_type": "code",
   "execution_count": 25,
   "id": "8ef43e31-15ab-4d2d-a51d-2d72ea55c7ce",
   "metadata": {},
   "outputs": [
    {
     "data": {
      "text/plain": [
       "DatasetDict({\n",
       "    train: Dataset({\n",
       "        features: ['id', 'sentence', 'subject_entity', 'object_entity', 'label', 'source', 'text'],\n",
       "        num_rows: 25976\n",
       "    })\n",
       "    dev: Dataset({\n",
       "        features: ['id', 'sentence', 'subject_entity', 'object_entity', 'label', 'source', 'text'],\n",
       "        num_rows: 6494\n",
       "    })\n",
       "})"
      ]
     },
     "execution_count": 25,
     "metadata": {},
     "output_type": "execute_result"
    }
   ],
   "source": [
    "examples"
   ]
  },
  {
   "cell_type": "code",
   "execution_count": 26,
   "id": "ae198a40-cf11-4cce-a614-38a65ac9e26e",
   "metadata": {},
   "outputs": [
    {
     "data": {
      "text/plain": [
       "4"
      ]
     },
     "execution_count": 26,
     "metadata": {},
     "output_type": "execute_result"
    }
   ],
   "source": [
    "tokenizer.add_special_tokens(\n",
    "    {\"additional_special_tokens\": list(markers.values())}\n",
    ")"
   ]
  },
  {
   "cell_type": "code",
   "execution_count": 27,
   "id": "089e92ea-284b-4d59-8b64-81c0255e65b7",
   "metadata": {},
   "outputs": [],
   "source": [
    "def convert_example_to_features(\n",
    "    examples, \n",
    "    tokenizer,\n",
    "    subject_start_marker: str,\n",
    "    subject_end_marker: str,\n",
    "    object_start_marker: str,\n",
    "    object_end_marker: str\n",
    ") -> Dict[str, List[Any]]:\n",
    "    \n",
    "    def fix_tokenization_error(text: str) -> List[str]:\n",
    "        \"\"\"Fix the tokenization due to the `obj` and `subj` marker inserted\n",
    "        in the middle of a word.\n",
    "        Example:\n",
    "            >>> text = \"<obj>조지 해리슨</obj>이 쓰고 <subj>비틀즈</subj>가\"\n",
    "            >>> tokens = ['<obj>', '조지', '해리', '##슨', '</obj>', '이', '쓰', '##고', '<subj>', '비틀즈', '</subj>', '가']\n",
    "            >>> fix_tokenization_error(text)\n",
    "            ['<obj>', '조지', '해리', '##슨', '</obj>', '##이', '쓰', '##고', '<subj>', '비틀즈', '</subj>', '##가']\n",
    "            \n",
    "        Only support for BertTokenizerFast\n",
    "        If you use bbpe, change code!\n",
    "        \"\"\"\n",
    "        batch_encoding = tokenizer._tokenizer.encode(text)\n",
    "        tokens = batch_encoding.tokens\n",
    "        # subject\n",
    "        if text[text.find(subject_end_marker) + len(subject_end_marker)] != \" \":\n",
    "            space_idx = tokens.index(subject_end_marker) + 1\n",
    "            # tokenizer_type == \"bert-wp\"\n",
    "            if not tokens[space_idx].startswith(\"##\") and \"가\" <= tokens[space_idx][0] <= \"힣\":\n",
    "                tokens[space_idx] = \"##\" + tokens[space_idx]\n",
    "\n",
    "        # object\n",
    "        if text[text.find(object_end_marker) + len(object_end_marker)] != \" \":\n",
    "            space_idx = tokens.index(object_end_marker) + 1\n",
    "            # tokenizer_type == \"bert-wp\"\n",
    "            if not tokens[space_idx].startswith(\"##\") and \"가\" <= tokens[space_idx][0] <= \"힣\":\n",
    "                tokens[space_idx] = \"##\" + tokens[space_idx]\n",
    "        \n",
    "        return tokens    \n",
    "    \n",
    "    tokens = fix_tokenization_error(examples[\"text\"])\n",
    "    \n",
    "    return {\n",
    "        \"input_ids\": tokenizer.convert_tokens_to_ids(tokens),\n",
    "        \"tokenized\": tokens,\n",
    "    }\n",
    "\n",
    "convert_example_to_features = partial(\n",
    "    convert_example_to_features,\n",
    "    tokenizer=tokenizer,\n",
    "    **markers,\n",
    ")"
   ]
  },
  {
   "cell_type": "code",
   "execution_count": 28,
   "id": "38308b5c-dce0-4835-8fcc-4e7fcbfd60c3",
   "metadata": {},
   "outputs": [
    {
     "data": {
      "application/vnd.jupyter.widget-view+json": {
       "model_id": "7f0f36a496b54691a86767f89cb6446d",
       "version_major": 2,
       "version_minor": 0
      },
      "text/plain": [
       "  0%|          | 0/25976 [00:00<?, ?ex/s]"
      ]
     },
     "metadata": {},
     "output_type": "display_data"
    },
    {
     "data": {
      "application/vnd.jupyter.widget-view+json": {
       "model_id": "9452abe601b94f0ebd38680c1f99245d",
       "version_major": 2,
       "version_minor": 0
      },
      "text/plain": [
       "  0%|          | 0/6494 [00:00<?, ?ex/s]"
      ]
     },
     "metadata": {},
     "output_type": "display_data"
    }
   ],
   "source": [
    "tokenized_datasets = examples.map(convert_example_to_features)"
   ]
  },
  {
   "cell_type": "markdown",
   "id": "53be1c5f-7213-43d6-91e6-ee3b6a161b45",
   "metadata": {},
   "source": [
    "## EDA"
   ]
  },
  {
   "cell_type": "markdown",
   "id": "85b48a02-e614-40c5-abbe-f5a87d3c920a",
   "metadata": {},
   "source": [
    "- 토큰 시퀀스 길이에 대한 기초 통계량과 히스토그램\n",
    "- max_length = 128로 해도 무난해보임"
   ]
  },
  {
   "cell_type": "code",
   "execution_count": 29,
   "id": "f7a48ff0-0dd9-40a0-b86a-90319ec5024f",
   "metadata": {},
   "outputs": [],
   "source": [
    "stat_train = [ (len(lst), lst.count(3)) for lst in tokenized_datasets['train']['input_ids']]\n",
    "stat_dev = [ (len(lst), lst.count(3)) for lst in tokenized_datasets['dev']['input_ids']]"
   ]
  },
  {
   "cell_type": "code",
   "execution_count": 30,
   "id": "98b9ef57-7640-4bb0-a10e-7b9bc140a6aa",
   "metadata": {},
   "outputs": [],
   "source": [
    "stat_train = pd.DataFrame(stat_train)\n",
    "stat_dev = pd.DataFrame(stat_dev)"
   ]
  },
  {
   "cell_type": "code",
   "execution_count": 31,
   "id": "d51934e6-2328-4dbc-8c98-030ab719bc51",
   "metadata": {},
   "outputs": [],
   "source": [
    "stat_train.columns = ['len', 'n_unk']\n",
    "stat_dev.columns = ['len', 'n_unk']"
   ]
  },
  {
   "cell_type": "code",
   "execution_count": 32,
   "id": "4dec5269-435d-4ab3-8bd8-7428c5d55fd5",
   "metadata": {},
   "outputs": [
    {
     "data": {
      "text/plain": [
       "<AxesSubplot:>"
      ]
     },
     "execution_count": 32,
     "metadata": {},
     "output_type": "execute_result"
    },
    {
     "data": {
      "image/png": "[encoded data removed]",
      "text/plain": [
       "<Figure size 432x288 with 1 Axes>"
      ]
     },
     "metadata": {
      "needs_background": "light"
     },
     "output_type": "display_data"
    }
   ],
   "source": [
    "pd.Series(stat_train['len']).hist()"
   ]
  },
  {
   "cell_type": "code",
   "execution_count": 33,
   "id": "ca5ac9b1-130e-4e3d-a627-819fce6f4b5f",
   "metadata": {},
   "outputs": [
    {
     "data": {
      "text/plain": [
       "<AxesSubplot:>"
      ]
     },
     "execution_count": 33,
     "metadata": {},
     "output_type": "execute_result"
    },
    {
     "data": {
      "image/png": "[encoded data removed]",
      "text/plain": [
       "<Figure size 432x288 with 1 Axes>"
      ]
     },
     "metadata": {
      "needs_background": "light"
     },
     "output_type": "display_data"
    }
   ],
   "source": [
    "pd.Series(stat_dev['len']).hist()"
   ]
  },
  {
   "cell_type": "code",
   "execution_count": 34,
   "id": "757d1456-d2b9-4b51-b920-a933a6ce4574",
   "metadata": {},
   "outputs": [
    {
     "data": {
      "text/plain": [
       "<AxesSubplot:>"
      ]
     },
     "execution_count": 34,
     "metadata": {},
     "output_type": "execute_result"
    },
    {
     "data": {
      "image/png": "[encoded data removed]",
      "text/plain": [
       "<Figure size 432x288 with 1 Axes>"
      ]
     },
     "metadata": {
      "needs_background": "light"
     },
     "output_type": "display_data"
    }
   ],
   "source": [
    "pd.Series(stat_train['n_unk']).hist()"
   ]
  },
  {
   "cell_type": "code",
   "execution_count": 235,
   "id": "c1049ef5-a72f-4ad0-b090-b947b8a7032f",
   "metadata": {},
   "outputs": [
    {
     "data": {
      "text/plain": [
       "<AxesSubplot:>"
      ]
     },
     "execution_count": 235,
     "metadata": {},
     "output_type": "execute_result"
    },
    {
     "data": {
      "image/png": "[encoded data removed]",
      "text/plain": [
       "<Figure size 432x288 with 1 Axes>"
      ]
     },
     "metadata": {
      "needs_background": "light"
     },
     "output_type": "display_data"
    }
   ],
   "source": [
    "pd.Series(stat_dev['n_unk']).hist()"
   ]
  }
 ],
 "metadata": {
  "kernelspec": {
   "display_name": "basic",
   "language": "python",
   "name": "basic"
  },
  "language_info": {
   "codemirror_mode": {
    "name": "ipython",
    "version": 3
   },
   "file_extension": ".py",
   "mimetype": "text/x-python",
   "name": "python",
   "nbconvert_exporter": "python",
   "pygments_lexer": "ipython3",
   "version": "3.8.11"
  }
 },
 "nbformat": 4,
 "nbformat_minor": 5
}
