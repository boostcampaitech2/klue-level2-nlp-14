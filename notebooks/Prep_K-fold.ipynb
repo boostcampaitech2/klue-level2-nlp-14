{
 "cells": [
  {
   "cell_type": "code",
   "execution_count": null,
   "id": "baf3a873-7ee2-4a17-b6dc-e7cfa6116d77",
   "metadata": {},
   "outputs": [],
   "source": [
    "import pickle as pickle\n",
    "import os\n",
    "import random\n",
    "import pandas as pd\n",
    "import torch\n",
    "import sklearn\n",
    "import numpy as np\n",
    "from sklearn.metrics import accuracy_score, recall_score, precision_score, f1_score\n",
    "from transformers import AutoTokenizer, AutoConfig, AutoModelForSequenceClassification, Trainer, TrainingArguments, RobertaConfig, RobertaTokenizer, RobertaForSequenceClassification, BertTokenizer\n",
    "from metrics import *\n",
    "from load_data import *"
   ]
  },
  {
   "cell_type": "markdown",
   "id": "d7fd097b-2792-42d7-ab70-43160d47dacc",
   "metadata": {
    "tags": []
   },
   "source": [
    "# Data"
   ]
  },
  {
   "cell_type": "code",
   "execution_count": 37,
   "id": "12cc8a88-8dcf-4363-a471-e3ebd8f55b61",
   "metadata": {},
   "outputs": [],
   "source": [
    "train_dataset = load_data(\"../dataset/train/train.csv\")"
   ]
  },
  {
   "cell_type": "code",
   "execution_count": 10,
   "id": "53f21897-1686-4732-b321-d45d709c7e22",
   "metadata": {},
   "outputs": [],
   "source": [
    "train_label = label_to_num(train_dataset['label'].values)"
   ]
  },
  {
   "cell_type": "code",
   "execution_count": 50,
   "id": "e15ce7a1-6093-47de-9f61-8af61aeb4c0d",
   "metadata": {},
   "outputs": [],
   "source": [
    "from sklearn.model_selection import StratifiedKFold\n",
    "import numpy as np\n",
    "\n",
    "indices = np.arange(len(train_dataset))\n",
    "\n",
    "skf = StratifiedKFold(n_splits=5, random_state=42, shuffle=True)"
   ]
  },
  {
   "cell_type": "code",
   "execution_count": 52,
   "id": "ae5939a3-214a-4317-b877-46b6bed3a451",
   "metadata": {},
   "outputs": [
    {
     "data": {
      "text/plain": [
       "5"
      ]
     },
     "execution_count": 52,
     "metadata": {},
     "output_type": "execute_result"
    }
   ],
   "source": [
    "skf.get_n_splits(indices)"
   ]
  },
  {
   "cell_type": "code",
   "execution_count": 59,
   "id": "269064dd-826c-434b-98b5-e34d620933c7",
   "metadata": {},
   "outputs": [],
   "source": [
    "skf_idx_5fold = tuple(skf.split(indices, train_label))"
   ]
  },
  {
   "cell_type": "code",
   "execution_count": 87,
   "id": "2deadec9-4e52-4748-a76d-ac23850e6593",
   "metadata": {},
   "outputs": [
    {
     "data": {
      "text/plain": [
       "'/opt/ml/klue_re'"
      ]
     },
     "execution_count": 87,
     "metadata": {},
     "output_type": "execute_result"
    }
   ],
   "source": [
    "pwd"
   ]
  },
  {
   "cell_type": "code",
   "execution_count": 88,
   "id": "0c01ba17-2ce3-44d2-bd1c-e267ea70aa95",
   "metadata": {},
   "outputs": [],
   "source": [
    "with open('skf_idx_5fold_numpy.pkl', 'wb') as f:\n",
    "    pickle.dumps(skf_idx_5fold)"
   ]
  },
  {
   "cell_type": "code",
   "execution_count": 66,
   "id": "44dc2b4c-ea02-4c15-8bb3-75fb1f6b5916",
   "metadata": {},
   "outputs": [],
   "source": [
    "import seaborn as sns"
   ]
  },
  {
   "cell_type": "code",
   "execution_count": 69,
   "id": "f7f77613-1e33-42e4-8dab-3131cf472287",
   "metadata": {},
   "outputs": [
    {
     "name": "stderr",
     "output_type": "stream",
     "text": [
      "/opt/conda/envs/basic/lib/python3.8/site-packages/seaborn/_decorators.py:36: FutureWarning: Pass the following variable as a keyword arg: x. From version 0.12, the only valid positional argument will be `data`, and passing other arguments without an explicit keyword will result in an error or misinterpretation.\n",
      "  warnings.warn(\n"
     ]
    },
    {
     "data": {
      "text/plain": [
       "<AxesSubplot:ylabel='count'>"
      ]
     },
     "execution_count": 69,
     "metadata": {},
     "output_type": "execute_result"
    },
    {
     "data": {
      "image/png": "[encoded data removed]",
      "text/plain": [
       "<Figure size 432x288 with 1 Axes>"
      ]
     },
     "metadata": {
      "needs_background": "light"
     },
     "output_type": "display_data"
    }
   ],
   "source": [
    "sns.countplot(pd.Series(train_label)[skf_idx_5fold[0][1]])"
   ]
  }
 ],
 "metadata": {
  "kernelspec": {
   "display_name": "basic",
   "language": "python",
   "name": "basic"
  },
  "language_info": {
   "codemirror_mode": {
    "name": "ipython",
    "version": 3
   },
   "file_extension": ".py",
   "mimetype": "text/x-python",
   "name": "python",
   "nbconvert_exporter": "python",
   "pygments_lexer": "ipython3",
   "version": "3.8.11"
  }
 },
 "nbformat": 4,
 "nbformat_minor": 5
}
