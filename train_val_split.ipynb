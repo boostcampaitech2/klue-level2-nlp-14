{
 "cells": [
  {
   "cell_type": "code",
   "execution_count": null,
   "id": "3567cfc9-7832-4660-97cc-e673d0c589dd",
   "metadata": {},
   "outputs": [],
   "source": [
    "import pickle as pickle\n",
    "import pandas as pd\n",
    "from sklearn.model_selection import train_test_split"
   ]
  },
  {
   "cell_type": "code",
   "execution_count": null,
   "id": "5a42727e-1f9f-44a8-91bf-2828d372bc3a",
   "metadata": {},
   "outputs": [],
   "source": [
    "pd_dataset = pd.read_csv('../dataset/train/train.csv')"
   ]
  },
  {
   "cell_type": "code",
   "execution_count": null,
   "id": "499887aa-a2d2-4194-b2ca-4dc42a82bd26",
   "metadata": {},
   "outputs": [],
   "source": [
    "x_train, x_test, y_train, y_test = train_test_split(pd_dataset.drop('label',axis=1), pd_dataset['label'], test_size=0.2, random_state=42, stratify=pd_dataset['label']) "
   ]
  },
  {
   "cell_type": "code",
   "execution_count": 22,
   "id": "5216a910-ab64-4a8c-8737-f611a4658810",
   "metadata": {},
   "outputs": [],
   "source": [
    "save_idx = { \"train\": list(x_train.index), \"eval\": list(x_test.index) }"
   ]
  },
  {
   "cell_type": "code",
   "execution_count": 28,
   "id": "4cead6fc-f4a8-4f99-af10-c5bff73a71d1",
   "metadata": {},
   "outputs": [],
   "source": [
    "with open('../dataset/train/train_eval_idx.pkl', 'wb') as f:\n",
    "    pickle.dump(save_idx, f, pickle.HIGHEST_PROTOCOL)"
   ]
  },
  {
   "cell_type": "code",
   "execution_count": 37,
   "id": "a6728b95-fd9d-44e6-a277-6302a2d70644",
   "metadata": {},
   "outputs": [],
   "source": [
    "train_df = pd_dataset.loc[save_idx['train']]\n",
    "eval_df = pd_dataset.loc[save_idx['eval']]"
   ]
  },
  {
   "cell_type": "code",
   "execution_count": 119,
   "id": "fe75f4c8-43c7-4efc-8372-df51ce19e76d",
   "metadata": {},
   "outputs": [],
   "source": [
    "train_df.to_csv('../dataset/train/train.csv')\n",
    "eval_df.to_csv('../dataset/train/dev.csv')\n",
    "pd_dataset.to_csv('../dataset/train/train_origin.csv')"
   ]
  }
 ],
 "metadata": {
  "kernelspec": {
   "display_name": "Python 3 (ipykernel)",
   "language": "python",
   "name": "python3"
  },
  "language_info": {
   "codemirror_mode": {
    "name": "ipython",
    "version": 3
   },
   "file_extension": ".py",
   "mimetype": "text/x-python",
   "name": "python",
   "nbconvert_exporter": "python",
   "pygments_lexer": "ipython3",
   "version": "3.8.5"
  }
 },
 "nbformat": 4,
 "nbformat_minor": 5
}
