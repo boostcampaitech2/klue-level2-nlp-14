{
 "cells": [
  {
   "cell_type": "code",
   "execution_count": 6,
   "id": "3567cfc9-7832-4660-97cc-e673d0c589dd",
   "metadata": {},
   "outputs": [],
   "source": [
    "import pickle as pickle\n",
    "import pandas as pd\n",
    "import numpy as np\n",
    "from sklearn.model_selection import train_test_split"
   ]
  },
  {
   "cell_type": "code",
   "execution_count": 2,
   "id": "5a42727e-1f9f-44a8-91bf-2828d372bc3a",
   "metadata": {},
   "outputs": [],
   "source": [
    "pd_dataset = pd.read_csv('../dataset/train/train_origin.csv')"
   ]
  },
  {
   "cell_type": "code",
   "execution_count": 3,
   "id": "499887aa-a2d2-4194-b2ca-4dc42a82bd26",
   "metadata": {},
   "outputs": [],
   "source": [
    "x_train, x_test, y_train, y_test = train_test_split(pd_dataset.drop('label',axis=1), pd_dataset['label'], test_size=0.2, random_state=42, stratify=pd_dataset['label']) "
   ]
  },
  {
   "cell_type": "code",
   "execution_count": 17,
   "id": "1ea7766c-2d73-4a0e-9d4f-20de5ac34255",
   "metadata": {},
   "outputs": [
    {
     "name": "stderr",
     "output_type": "stream",
     "text": [
      "/tmp/ipykernel_8384/1168045246.py:2: FutureWarning: Using a non-tuple sequence for multidimensional indexing is deprecated; use `arr[tuple(seq)]` instead of `arr[seq]`. In the future this will be interpreted as an array index, `arr[np.array(seq)]`, which will result either in an error or a different result.\n",
      "  split_label[[list(y_train.index)]] = 0.\n"
     ]
    }
   ],
   "source": [
    "split_label = np.ones(len(pd_dataset))\n",
    "split_label[[list(y_train.index)]] = 0.\n",
    "\n",
    "pd_dataset[\"split\"] = split_label.astype(int)\n",
    "\n",
    "pd_dataset.to_csv(\"../dataset/train/train.csv\",index=False)"
   ]
  },
  {
   "cell_type": "code",
   "execution_count": null,
   "id": "a6565dcd-e887-4da7-8ee2-c9a351531a1e",
   "metadata": {},
   "outputs": [],
   "source": []
  }
 ],
 "metadata": {
  "kernelspec": {
   "display_name": "Python 3 (ipykernel)",
   "language": "python",
   "name": "python3"
  },
  "language_info": {
   "codemirror_mode": {
    "name": "ipython",
    "version": 3
   },
   "file_extension": ".py",
   "mimetype": "text/x-python",
   "name": "python",
   "nbconvert_exporter": "python",
   "pygments_lexer": "ipython3",
   "version": "3.8.5"
  }
 },
 "nbformat": 4,
 "nbformat_minor": 5
}
