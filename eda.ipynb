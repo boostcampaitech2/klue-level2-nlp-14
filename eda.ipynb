{
 "cells": [
  {
   "cell_type": "code",
   "execution_count": 3,
   "id": "7acd2817-d051-4847-913d-e8708b80366e",
   "metadata": {},
   "outputs": [],
   "source": [
    "import pickle as pickle\n",
    "import os\n",
    "import pandas as pd\n",
    "import torch\n",
    "import numpy as np\n",
    "from matplotlib import pyplot as plt\n",
    "import seaborn as sns"
   ]
  },
  {
   "cell_type": "code",
   "execution_count": 4,
   "id": "035dc216-9f89-429c-ab88-ce93429ba4c3",
   "metadata": {},
   "outputs": [],
   "source": [
    "def preprocessing_dataset(dataset):\n",
    "  \"\"\" 처음 불러온 csv 파일을 원하는 형태의 DataFrame으로 변경 시켜줍니다.\"\"\"\n",
    "  subject_entity = []\n",
    "  object_entity = []\n",
    "  for i,j in zip(dataset['subject_entity'], dataset['object_entity']):\n",
    "    i = i[1:-1].split(',')[0].split(':')[1]\n",
    "    j = j[1:-1].split(',')[0].split(':')[1]\n",
    "\n",
    "    subject_entity.append(i)\n",
    "    object_entity.append(j)\n",
    "  out_dataset = pd.DataFrame({'id':dataset['id'], 'sentence':dataset['sentence'],'subject_entity':subject_entity,'object_entity':object_entity,'label':dataset['label']})\n",
    "  return out_dataset"
   ]
  },
  {
   "cell_type": "code",
   "execution_count": 5,
   "id": "244144cd-64c8-45e0-af52-70b3737b197d",
   "metadata": {},
   "outputs": [],
   "source": [
    "def load_data(dataset_dir):\n",
    "  \"\"\" csv 파일을 경로에 맡게 불러 옵니다. \"\"\"\n",
    "  pd_dataset = pd.read_csv(dataset_dir)\n",
    "  dataset = preprocessing_dataset(pd_dataset)\n",
    "  \n",
    "  return dataset"
   ]
  },
  {
   "cell_type": "code",
   "execution_count": 6,
   "id": "5929fbc7-b8bb-41d3-8694-e6f98c89e03e",
   "metadata": {},
   "outputs": [],
   "source": [
    "def label_to_num(label):\n",
    "  num_label = []\n",
    "  with open('dict_label_to_num.pkl', 'rb') as f:\n",
    "    dict_label_to_num = pickle.load(f)\n",
    "  for v in label:\n",
    "    num_label.append(dict_label_to_num[v])\n",
    "  \n",
    "  return num_label"
   ]
  },
  {
   "cell_type": "code",
   "execution_count": 7,
   "id": "554aa1f2-e8b1-4c69-84dd-aa10264bee83",
   "metadata": {},
   "outputs": [],
   "source": [
    "dataset = load_data('/opt/ml/dataset/train/train.csv')\n",
    "label = label_to_num(dataset['label'].values)"
   ]
  },
  {
   "cell_type": "code",
   "execution_count": 8,
   "id": "bff44233-6475-4e5b-be2e-f7883b3127d3",
   "metadata": {},
   "outputs": [
    {
     "data": {
      "text/html": [
       "<div>\n",
       "<style scoped>\n",
       "    .dataframe tbody tr th:only-of-type {\n",
       "        vertical-align: middle;\n",
       "    }\n",
       "\n",
       "    .dataframe tbody tr th {\n",
       "        vertical-align: top;\n",
       "    }\n",
       "\n",
       "    .dataframe thead th {\n",
       "        text-align: right;\n",
       "    }\n",
       "</style>\n",
       "<table border=\"1\" class=\"dataframe\">\n",
       "  <thead>\n",
       "    <tr style=\"text-align: right;\">\n",
       "      <th></th>\n",
       "      <th>id</th>\n",
       "      <th>sentence</th>\n",
       "      <th>subject_entity</th>\n",
       "      <th>object_entity</th>\n",
       "      <th>label</th>\n",
       "    </tr>\n",
       "  </thead>\n",
       "  <tbody>\n",
       "    <tr>\n",
       "      <th>26388</th>\n",
       "      <td>26388</td>\n",
       "      <td>중세 시대부터 이미 이곳에서 많은 학생들이 공부하면서 학문의 중심지로 여겨졌으며, ...</td>\n",
       "      <td>'카르티에 라탱'</td>\n",
       "      <td>'프랑스'</td>\n",
       "      <td>no_relation</td>\n",
       "    </tr>\n",
       "    <tr>\n",
       "      <th>21963</th>\n",
       "      <td>21963</td>\n",
       "      <td>2008년 한국시리즈에서 두산 베어스를 상대로 한국시리즈 최초 4홀드를 기록하였다.</td>\n",
       "      <td>'두산 베어스'</td>\n",
       "      <td>'2008년'</td>\n",
       "      <td>no_relation</td>\n",
       "    </tr>\n",
       "    <tr>\n",
       "      <th>2312</th>\n",
       "      <td>2312</td>\n",
       "      <td>병정에서 미카사가 오른팔 손목에 아즈마비토 가문의 표식을 가지고 있다는 점이 드러나...</td>\n",
       "      <td>'아즈마비토 가문'</td>\n",
       "      <td>'히즈루국'</td>\n",
       "      <td>org:place_of_headquarters</td>\n",
       "    </tr>\n",
       "    <tr>\n",
       "      <th>379</th>\n",
       "      <td>379</td>\n",
       "      <td>하지만 카코가와 히류에 의해 세계가 바뀌어져 버렸고 다시 되돌리기 위해 전투를 벌이...</td>\n",
       "      <td>'카도야 츠카사'</td>\n",
       "      <td>'디케이드'</td>\n",
       "      <td>no_relation</td>\n",
       "    </tr>\n",
       "    <tr>\n",
       "      <th>24121</th>\n",
       "      <td>24121</td>\n",
       "      <td>인천도시공사(사장 박인서)는 에너지절감 및 친환경 경영을 실천하고자 관용차량 일부를...</td>\n",
       "      <td>'한국GM'</td>\n",
       "      <td>'자동차'</td>\n",
       "      <td>org:product</td>\n",
       "    </tr>\n",
       "  </tbody>\n",
       "</table>\n",
       "</div>"
      ],
      "text/plain": [
       "          id                                           sentence  \\\n",
       "26388  26388  중세 시대부터 이미 이곳에서 많은 학생들이 공부하면서 학문의 중심지로 여겨졌으며, ...   \n",
       "21963  21963     2008년 한국시리즈에서 두산 베어스를 상대로 한국시리즈 최초 4홀드를 기록하였다.   \n",
       "2312    2312  병정에서 미카사가 오른팔 손목에 아즈마비토 가문의 표식을 가지고 있다는 점이 드러나...   \n",
       "379      379  하지만 카코가와 히류에 의해 세계가 바뀌어져 버렸고 다시 되돌리기 위해 전투를 벌이...   \n",
       "24121  24121  인천도시공사(사장 박인서)는 에너지절감 및 친환경 경영을 실천하고자 관용차량 일부를...   \n",
       "\n",
       "      subject_entity object_entity                      label  \n",
       "26388      '카르티에 라탱'         '프랑스'                no_relation  \n",
       "21963       '두산 베어스'       '2008년'                no_relation  \n",
       "2312      '아즈마비토 가문'        '히즈루국'  org:place_of_headquarters  \n",
       "379        '카도야 츠카사'        '디케이드'                no_relation  \n",
       "24121         '한국GM'         '자동차'                org:product  "
      ]
     },
     "execution_count": 8,
     "metadata": {},
     "output_type": "execute_result"
    }
   ],
   "source": [
    "dataset.sample(5)"
   ]
  },
  {
   "cell_type": "code",
   "execution_count": 9,
   "id": "87a75cbe-0f2a-45e9-b9e6-629f1b2f94f5",
   "metadata": {},
   "outputs": [
    {
     "name": "stdout",
     "output_type": "stream",
     "text": [
      "<class 'pandas.core.frame.DataFrame'>\n",
      "RangeIndex: 32470 entries, 0 to 32469\n",
      "Data columns (total 5 columns):\n",
      " #   Column          Non-Null Count  Dtype \n",
      "---  ------          --------------  ----- \n",
      " 0   id              32470 non-null  int64 \n",
      " 1   sentence        32470 non-null  object\n",
      " 2   subject_entity  32470 non-null  object\n",
      " 3   object_entity   32470 non-null  object\n",
      " 4   label           32470 non-null  object\n",
      "dtypes: int64(1), object(4)\n",
      "memory usage: 1.2+ MB\n"
     ]
    }
   ],
   "source": [
    "dataset.info()"
   ]
  },
  {
   "cell_type": "code",
   "execution_count": 10,
   "id": "fbd31ec1-4252-4811-ade2-031368919ea7",
   "metadata": {},
   "outputs": [
    {
     "data": {
      "image/png": "[encoded data removed]",
      "text/plain": [
       "<Figure size 1080x720 with 1 Axes>"
      ]
     },
     "metadata": {
      "needs_background": "light"
     },
     "output_type": "display_data"
    }
   ],
   "source": [
    "fig = plt.figure(figsize=(15, 10))\n",
    "sns.countplot(y=\"label\", data=dataset, order=dataset[\"label\"].value_counts().index)\n",
    "plt.title(\"data imbalance\")\n",
    "plt.show()"
   ]
  },
  {
   "cell_type": "code",
   "execution_count": 11,
   "id": "9f283796-dde1-4d47-bbbe-f87b67c804a4",
   "metadata": {},
   "outputs": [
    {
     "data": {
      "text/html": [
       "<div>\n",
       "<style scoped>\n",
       "    .dataframe tbody tr th:only-of-type {\n",
       "        vertical-align: middle;\n",
       "    }\n",
       "\n",
       "    .dataframe tbody tr th {\n",
       "        vertical-align: top;\n",
       "    }\n",
       "\n",
       "    .dataframe thead th {\n",
       "        text-align: right;\n",
       "    }\n",
       "</style>\n",
       "<table border=\"1\" class=\"dataframe\">\n",
       "  <thead>\n",
       "    <tr style=\"text-align: right;\">\n",
       "      <th></th>\n",
       "      <th>id</th>\n",
       "      <th>sentence</th>\n",
       "      <th>subject_entity</th>\n",
       "      <th>object_entity</th>\n",
       "      <th>label</th>\n",
       "    </tr>\n",
       "  </thead>\n",
       "  <tbody>\n",
       "    <tr>\n",
       "      <th>count</th>\n",
       "      <td>32470.000000</td>\n",
       "      <td>32470</td>\n",
       "      <td>32470</td>\n",
       "      <td>32470</td>\n",
       "      <td>32470</td>\n",
       "    </tr>\n",
       "    <tr>\n",
       "      <th>unique</th>\n",
       "      <td>NaN</td>\n",
       "      <td>28803</td>\n",
       "      <td>12052</td>\n",
       "      <td>10195</td>\n",
       "      <td>30</td>\n",
       "    </tr>\n",
       "    <tr>\n",
       "      <th>top</th>\n",
       "      <td>NaN</td>\n",
       "      <td>도쿠가와 이에야스와 도쿠가와 히데타다가 20년에 걸쳐 안정시킨 막부를 이어받은 3대...</td>\n",
       "      <td>'민주당'</td>\n",
       "      <td>'대한민국'</td>\n",
       "      <td>no_relation</td>\n",
       "    </tr>\n",
       "    <tr>\n",
       "      <th>freq</th>\n",
       "      <td>NaN</td>\n",
       "      <td>3</td>\n",
       "      <td>144</td>\n",
       "      <td>276</td>\n",
       "      <td>9534</td>\n",
       "    </tr>\n",
       "    <tr>\n",
       "      <th>mean</th>\n",
       "      <td>16234.500000</td>\n",
       "      <td>NaN</td>\n",
       "      <td>NaN</td>\n",
       "      <td>NaN</td>\n",
       "      <td>NaN</td>\n",
       "    </tr>\n",
       "    <tr>\n",
       "      <th>std</th>\n",
       "      <td>9373.425957</td>\n",
       "      <td>NaN</td>\n",
       "      <td>NaN</td>\n",
       "      <td>NaN</td>\n",
       "      <td>NaN</td>\n",
       "    </tr>\n",
       "    <tr>\n",
       "      <th>min</th>\n",
       "      <td>0.000000</td>\n",
       "      <td>NaN</td>\n",
       "      <td>NaN</td>\n",
       "      <td>NaN</td>\n",
       "      <td>NaN</td>\n",
       "    </tr>\n",
       "    <tr>\n",
       "      <th>25%</th>\n",
       "      <td>8117.250000</td>\n",
       "      <td>NaN</td>\n",
       "      <td>NaN</td>\n",
       "      <td>NaN</td>\n",
       "      <td>NaN</td>\n",
       "    </tr>\n",
       "    <tr>\n",
       "      <th>50%</th>\n",
       "      <td>16234.500000</td>\n",
       "      <td>NaN</td>\n",
       "      <td>NaN</td>\n",
       "      <td>NaN</td>\n",
       "      <td>NaN</td>\n",
       "    </tr>\n",
       "    <tr>\n",
       "      <th>75%</th>\n",
       "      <td>24351.750000</td>\n",
       "      <td>NaN</td>\n",
       "      <td>NaN</td>\n",
       "      <td>NaN</td>\n",
       "      <td>NaN</td>\n",
       "    </tr>\n",
       "    <tr>\n",
       "      <th>max</th>\n",
       "      <td>32469.000000</td>\n",
       "      <td>NaN</td>\n",
       "      <td>NaN</td>\n",
       "      <td>NaN</td>\n",
       "      <td>NaN</td>\n",
       "    </tr>\n",
       "  </tbody>\n",
       "</table>\n",
       "</div>"
      ],
      "text/plain": [
       "                  id                                           sentence  \\\n",
       "count   32470.000000                                              32470   \n",
       "unique           NaN                                              28803   \n",
       "top              NaN  도쿠가와 이에야스와 도쿠가와 히데타다가 20년에 걸쳐 안정시킨 막부를 이어받은 3대...   \n",
       "freq             NaN                                                  3   \n",
       "mean    16234.500000                                                NaN   \n",
       "std      9373.425957                                                NaN   \n",
       "min         0.000000                                                NaN   \n",
       "25%      8117.250000                                                NaN   \n",
       "50%     16234.500000                                                NaN   \n",
       "75%     24351.750000                                                NaN   \n",
       "max     32469.000000                                                NaN   \n",
       "\n",
       "       subject_entity object_entity        label  \n",
       "count           32470         32470        32470  \n",
       "unique          12052         10195           30  \n",
       "top             '민주당'        '대한민국'  no_relation  \n",
       "freq              144           276         9534  \n",
       "mean              NaN           NaN          NaN  \n",
       "std               NaN           NaN          NaN  \n",
       "min               NaN           NaN          NaN  \n",
       "25%               NaN           NaN          NaN  \n",
       "50%               NaN           NaN          NaN  \n",
       "75%               NaN           NaN          NaN  \n",
       "max               NaN           NaN          NaN  "
      ]
     },
     "execution_count": 11,
     "metadata": {},
     "output_type": "execute_result"
    }
   ],
   "source": [
    "dataset.describe(include='all')"
   ]
  },
  {
   "cell_type": "code",
   "execution_count": 12,
   "id": "3f0c496f-1cc5-4752-834a-d4593b2b441c",
   "metadata": {},
   "outputs": [
    {
     "name": "stdout",
     "output_type": "stream",
     "text": [
      "3\n"
     ]
    }
   ],
   "source": [
    "#sentence중복 확인\n",
    "\n",
    "cnt = 0\n",
    "for i in range(len(dataset)):\n",
    "    if dataset['sentence'][i] == '도쿠가와 이에야스와 도쿠가와 히데타다가 20년에 걸쳐 안정시킨 막부를 이어받은 3대 쇼군 도쿠가와 이에미쓰는 중신들에게 유교 사상을 철저히 연구할 것을 지시했고, 한편으로 도쿠가와 미쓰쿠니 등은 《대일본사》(大日本史)와 같은 역사서를 편찬하는 등 문치(文治)를 지향하였으며, 이를 바탕으로 5대 쇼군 도쿠가와 이에쓰나 대에 에도 막부는 겐로쿠 호황이라고 부르는 최대의 전성기를 맞이했다.':\n",
    "        cnt += 1\n",
    "print(cnt)"
   ]
  },
  {
   "cell_type": "code",
   "execution_count": 13,
   "id": "759ab1ef-4e18-433b-8090-d2aeccf08cf2",
   "metadata": {},
   "outputs": [
    {
     "name": "stdout",
     "output_type": "stream",
     "text": [
      "0\n"
     ]
    }
   ],
   "source": [
    "#subject와 object중복 확인\n",
    "\n",
    "cnt = 0\n",
    "for i in range(len(dataset)):\n",
    "    if dataset['subject_entity'][i] == dataset['object_entity'][i]:\n",
    "        cnt += 1\n",
    "print(cnt)"
   ]
  },
  {
   "cell_type": "markdown",
   "id": "88370004-d1ca-4c2c-a6a0-1c944ee50f3a",
   "metadata": {},
   "source": [
    "#### sentence\n",
    "##### 도쿠가와 이에야스와 도쿠가와 히데타다가 20년에 걸쳐 안정시킨 막부를 이어받은 3대 쇼군 도쿠가와 이에미쓰는 중신들에게 유교 사상을 철저히 연구할 것을 지시했고, 한편으로 도쿠가와 미쓰쿠니 등은 《대일본사》(大日本史)와 같은 역사서를 편찬하는 등 문치(文治)를 지향하였으며, 이를 바탕으로 5대 쇼군 도쿠가와 이에쓰나 대에 에도 막부는 겐로쿠 호황이라고 부르는 최대의 전성기를 맞이했다.\n",
    "\n",
    "\n",
    "#### subject\n",
    "##### {'word': '도쿠가와 이에미쓰', 'start_idx': 50, 'end_idx': 58, 'type': 'PER'}\n",
    "##### {'word': '도쿠가와 히데타다', 'start_idx': 11, 'end_idx': 19, 'type': 'PER'}\n",
    "##### {'word': '도쿠가와 이에야스', 'start_idx': 0, 'end_idx': 8, 'type': 'PER'}\n",
    "\n",
    "\n",
    "#### object\n",
    "##### {'word': '에도 막부', 'start_idx': 181, 'end_idx': 185, 'type': 'ORG'}\n",
    "\n",
    "\n",
    "#### label\n",
    "##### per:employee_of"
   ]
  },
  {
   "cell_type": "code",
   "execution_count": 14,
   "id": "a73b8be9-f45f-477a-ad88-4981a221231c",
   "metadata": {},
   "outputs": [
    {
     "data": {
      "text/plain": [
       "array(['〈Something〉는 조지 해리슨이 쓰고 비틀즈가 1969년 앨범 《Abbey Road》에 담은 노래다.',\n",
       "       '호남이 기반인 바른미래당·대안신당·민주평화당이 우여곡절 끝에 합당해 민생당(가칭)으로 재탄생한다.',\n",
       "       'K리그2에서 성적 1위를 달리고 있는 광주FC는 지난 26일 한국프로축구연맹으로부터 관중 유치 성과와 마케팅 성과를 인정받아 ‘풀 스타디움상’과 ‘플러스 스타디움상’을 수상했다.',\n",
       "       ...,\n",
       "       \"완도군(군수 신우철)이 국토교통부에서 실시한 '2019 교통문화지수 실태조사'에서 229개 기초지자체 중 최상위 등급인 A등급을 받으면서 전국에서 가장 높은 교통안전 인식 수준을 갖고 있는 것으로 나타났다.\",\n",
       "       '중앙일보, JTBC 회장을 지낸 이후 중앙홀딩스 회장, 재단법인 한반도평화만들기 이사장, 한국기원 총재를 맡고 있다.',\n",
       "       '화순군(군수 구충곤)은 17일 동면의 이장 20여 명이 코로나 19 예방을 위해 버스 승강장, 공중화장실 등 다중이용시설과 오동리 천운아파트 주변을 소독하는 방역 봉사활동을 펼쳤다고 밝혔다.'],\n",
       "      dtype=object)"
      ]
     },
     "execution_count": 14,
     "metadata": {},
     "output_type": "execute_result"
    }
   ],
   "source": [
    "dataset['sentence'].unique()"
   ]
  },
  {
   "cell_type": "markdown",
   "id": "8512f82d-4169-4b79-bc92-6afb254e3ed8",
   "metadata": {},
   "source": [
    "#### subject entitiy aug\n",
    "\n",
    "###### sentence중복 없는 것 중\n",
    "###### subject_entity 다음 단어가 '와'또는 '과'인 것에 대하여\n",
    "###### 1. 해당 sentence 저장\n",
    "###### 2. subject_entity는 와/과 다음 단어를 시작으로 하여 '은','는','이','가'까지 저장\n",
    "###### 3. object_entity은 동일하게 저장\n",
    "###### 위의 1, 2, 3을 dataframe으로 묶어서 dataset에 concatenation\n",
    "\n",
    "###### ※',', '·'는 '와 '로 치환"
   ]
  },
  {
   "cell_type": "markdown",
   "id": "2f733472-b62d-4e15-9926-fe297e99963f",
   "metadata": {
    "tags": []
   },
   "source": [
    "#### object entitiy aug\n",
    "\n",
    "###### sentence중복 없는 것 중\n",
    "###### object_entity 다음 단어가 '와'또는 '과'인 것에 대하여\n",
    "###### 1. 해당 sentence 저장\n",
    "###### 2. subject_entity는 동일하게 저장\n",
    "###### 3. object_entitiy는 와/과 다음 단어를 시작으로 하여 띄어쓰기기준 하나의 token저장\n",
    "###### 4. 명사만 분리\n",
    "###### 위의 1, 2, 3을 dataframe으로 묶어서 dataset에 concatenation\n",
    "\n",
    "###### ※',', '·'는 '와 '로 치환"
   ]
  },
  {
   "cell_type": "code",
   "execution_count": 16,
   "id": "354455fd-f238-4b5a-9219-b75cfd3db324",
   "metadata": {},
   "outputs": [],
   "source": [
    "def subj_obj_check(dataset):\n",
    "  subject_entity = []\n",
    "  object_entity = []\n",
    "  for i,j in zip(dataset['subject_entity'], dataset['object_entity']):\n",
    "    i = i[1:-1].split(',')[-1].split(':')[1]\n",
    "    j = j[1:-1].split(',')[-1].split(':')[1]\n",
    "\n",
    "    subject_entity.append(i)\n",
    "    object_entity.append(j)\n",
    "  out_dataset = pd.DataFrame({'id':dataset['id'], 'sentence':dataset['sentence'],'subject_entity':subject_entity,'object_entity':object_entity,'label':dataset['label']})\n",
    "  return out_dataset"
   ]
  },
  {
   "cell_type": "code",
   "execution_count": 17,
   "id": "c6f704ad-8f13-4c6a-96b5-a1179a0228ad",
   "metadata": {},
   "outputs": [],
   "source": [
    "df = pd.read_csv('/opt/ml/dataset/train/train.csv')\n",
    "df = subj_obj_check(df)"
   ]
  },
  {
   "cell_type": "code",
   "execution_count": 18,
   "id": "f98e8dc3-dc4e-40a8-be59-01fa4947974a",
   "metadata": {},
   "outputs": [
    {
     "data": {
      "text/html": [
       "<div>\n",
       "<style scoped>\n",
       "    .dataframe tbody tr th:only-of-type {\n",
       "        vertical-align: middle;\n",
       "    }\n",
       "\n",
       "    .dataframe tbody tr th {\n",
       "        vertical-align: top;\n",
       "    }\n",
       "\n",
       "    .dataframe thead th {\n",
       "        text-align: right;\n",
       "    }\n",
       "</style>\n",
       "<table border=\"1\" class=\"dataframe\">\n",
       "  <thead>\n",
       "    <tr style=\"text-align: right;\">\n",
       "      <th></th>\n",
       "      <th>id</th>\n",
       "      <th>sentence</th>\n",
       "      <th>subject_entity</th>\n",
       "      <th>object_entity</th>\n",
       "      <th>label</th>\n",
       "    </tr>\n",
       "  </thead>\n",
       "  <tbody>\n",
       "    <tr>\n",
       "      <th>0</th>\n",
       "      <td>0</td>\n",
       "      <td>〈Something〉는 조지 해리슨이 쓰고 비틀즈가 1969년 앨범 《Abbey R...</td>\n",
       "      <td>'ORG'</td>\n",
       "      <td>'PER'</td>\n",
       "      <td>no_relation</td>\n",
       "    </tr>\n",
       "    <tr>\n",
       "      <th>1</th>\n",
       "      <td>1</td>\n",
       "      <td>호남이 기반인 바른미래당·대안신당·민주평화당이 우여곡절 끝에 합당해 민생당(가칭)으...</td>\n",
       "      <td>'ORG'</td>\n",
       "      <td>'ORG'</td>\n",
       "      <td>no_relation</td>\n",
       "    </tr>\n",
       "    <tr>\n",
       "      <th>2</th>\n",
       "      <td>2</td>\n",
       "      <td>K리그2에서 성적 1위를 달리고 있는 광주FC는 지난 26일 한국프로축구연맹으로부터...</td>\n",
       "      <td>'ORG'</td>\n",
       "      <td>'ORG'</td>\n",
       "      <td>org:member_of</td>\n",
       "    </tr>\n",
       "    <tr>\n",
       "      <th>3</th>\n",
       "      <td>3</td>\n",
       "      <td>균일가 생활용품점 (주)아성다이소(대표 박정부)는 코로나19 바이러스로 어려움을 겪...</td>\n",
       "      <td>'ORG'</td>\n",
       "      <td>'PER'</td>\n",
       "      <td>org:top_members/employees</td>\n",
       "    </tr>\n",
       "    <tr>\n",
       "      <th>4</th>\n",
       "      <td>4</td>\n",
       "      <td>1967년 프로 야구 드래프트 1순위로 요미우리 자이언츠에게 입단하면서 등번호는 8...</td>\n",
       "      <td>'ORG'</td>\n",
       "      <td>'DAT'</td>\n",
       "      <td>no_relation</td>\n",
       "    </tr>\n",
       "  </tbody>\n",
       "</table>\n",
       "</div>"
      ],
      "text/plain": [
       "   id                                           sentence subject_entity  \\\n",
       "0   0  〈Something〉는 조지 해리슨이 쓰고 비틀즈가 1969년 앨범 《Abbey R...          'ORG'   \n",
       "1   1  호남이 기반인 바른미래당·대안신당·민주평화당이 우여곡절 끝에 합당해 민생당(가칭)으...          'ORG'   \n",
       "2   2  K리그2에서 성적 1위를 달리고 있는 광주FC는 지난 26일 한국프로축구연맹으로부터...          'ORG'   \n",
       "3   3  균일가 생활용품점 (주)아성다이소(대표 박정부)는 코로나19 바이러스로 어려움을 겪...          'ORG'   \n",
       "4   4  1967년 프로 야구 드래프트 1순위로 요미우리 자이언츠에게 입단하면서 등번호는 8...          'ORG'   \n",
       "\n",
       "  object_entity                      label  \n",
       "0         'PER'                no_relation  \n",
       "1         'ORG'                no_relation  \n",
       "2         'ORG'              org:member_of  \n",
       "3         'PER'  org:top_members/employees  \n",
       "4         'DAT'                no_relation  "
      ]
     },
     "execution_count": 18,
     "metadata": {},
     "output_type": "execute_result"
    }
   ],
   "source": [
    "df.head()"
   ]
  },
  {
   "cell_type": "code",
   "execution_count": 28,
   "id": "cc11403d-3972-412c-86a5-0dc743e5ccf7",
   "metadata": {},
   "outputs": [
    {
     "data": {
      "image/png": "[encoded data removed]",
      "text/plain": [
       "<Figure size 360x360 with 1 Axes>"
      ]
     },
     "metadata": {
      "needs_background": "light"
     },
     "output_type": "display_data"
    }
   ],
   "source": [
    "fig = plt.figure(figsize=(5, 5))\n",
    "sns.countplot(x=\"subject_entity\", data=df)\n",
    "plt.title(\"subject_dist\")\n",
    "plt.show()"
   ]
  },
  {
   "cell_type": "code",
   "execution_count": 23,
   "id": "934a91a1-151b-45ea-88f9-2d7cbf62b493",
   "metadata": {},
   "outputs": [
    {
     "data": {
      "image/png": "[encoded data removed]",
      "text/plain": [
       "<Figure size 360x360 with 1 Axes>"
      ]
     },
     "metadata": {
      "needs_background": "light"
     },
     "output_type": "display_data"
    }
   ],
   "source": [
    "fig = plt.figure(figsize=(5, 5))\n",
    "sns.countplot(x=\"object_entity\", data=df)\n",
    "plt.title(\"object_dist\")\n",
    "plt.show()"
   ]
  },
  {
   "cell_type": "code",
   "execution_count": null,
   "id": "5c4e98fd-889b-45cb-9f25-478162d4b71b",
   "metadata": {},
   "outputs": [],
   "source": [
    "# dataset = dataset\n",
    "# targets = [imbalance한 데이터 라벨 리스트]\n",
    "# labels = label\n",
    "\n",
    "def augmentation(dataset, labels, targets):\n",
    "    \n",
    "    for idx, data in enumerate(dataset):\n",
    "        if labels[idx] not in targets:\n",
    "            continue\n",
    "        #aumentation\n",
    "\n",
    "        # 저장"
   ]
  },
  {
   "cell_type": "code",
   "execution_count": null,
   "id": "d04fcfc3-1413-4013-8b27-6e77c88b8dcf",
   "metadata": {},
   "outputs": [],
   "source": []
  },
  {
   "cell_type": "code",
   "execution_count": null,
   "id": "d5f652d4-43f4-4d4d-9c61-6406b53cb112",
   "metadata": {},
   "outputs": [],
   "source": []
  },
  {
   "cell_type": "code",
   "execution_count": null,
   "id": "f83b3dab-0df2-4aa8-a450-c6d292644f14",
   "metadata": {},
   "outputs": [],
   "source": []
  },
  {
   "cell_type": "code",
   "execution_count": null,
   "id": "5e0c40a8-e8dc-4aa3-97c3-5db3594b5598",
   "metadata": {},
   "outputs": [],
   "source": [
    "def remove_html(texts):\n",
    "    \"\"\"\n",
    "    특수기호를 제거\n",
    "    ``〈Something〉는 조지 해리슨이 쓰고 비틀즈가 1969년 앨범 《Abbey Road》에 담은 노래다.`` -> ``Something는 조지 해리슨이 쓰고 비틀즈가 1969년 앨범 Abbey Road에 담은 노래다. ``\n",
    "    \"\"\"\n",
    "    preprcessed_text = []\n",
    "    for text in texts:\n",
    "        text = #제거가능한 특수문자\n",
    "        if text:\n",
    "            preprcessed_text.append(text)\n",
    "    return preprcessed_text"
   ]
  },
  {
   "cell_type": "code",
   "execution_count": null,
   "id": "6af0ced4-ff4d-473b-8754-f1efc920cf5e",
   "metadata": {},
   "outputs": [],
   "source": [
    "def remove_repeated_spacing(texts):\n",
    "    \"\"\"\n",
    "    두 개 이상의 연속된 공백을 하나로 치환\n",
    "    \"\"\"\n",
    "    preprocessed_text = []\n",
    "    for text in texts:\n",
    "        text = re.sub(r\"\\s+\", \" \", text).strip()\n",
    "        if text:\n",
    "            preprocessed_text.append(text)\n",
    "    return preprocessed_text"
   ]
  },
  {
   "cell_type": "code",
   "execution_count": null,
   "id": "79adb3a3-ac98-450d-b750-164fb4e13135",
   "metadata": {},
   "outputs": [],
   "source": []
  }
 ],
 "metadata": {
  "kernelspec": {
   "display_name": "Python 3",
   "language": "python",
   "name": "python3"
  },
  "language_info": {
   "codemirror_mode": {
    "name": "ipython",
    "version": 3
   },
   "file_extension": ".py",
   "mimetype": "text/x-python",
   "name": "python",
   "nbconvert_exporter": "python",
   "pygments_lexer": "ipython3",
   "version": "3.8.5"
  }
 },
 "nbformat": 4,
 "nbformat_minor": 5
}
